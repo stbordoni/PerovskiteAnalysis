{
 "cells": [
  {
   "cell_type": "code",
   "execution_count": null,
   "metadata": {},
   "outputs": [],
   "source": [
    "import numpy as np\n",
    "import pandas as pd\n",
    "import os\n",
    "import re\n",
    "import matplotlib.pyplot as plt\n",
    "import matplotlib.colors as mcolors\n"
   ]
  },
  {
   "cell_type": "code",
   "execution_count": null,
   "metadata": {},
   "outputs": [],
   "source": [
    "base_path = '/Users/bordonis/ResearchActivities/Perovskite/OpticalMeasurements/Luminescence/'"
   ]
  },
  {
   "cell_type": "code",
   "execution_count": null,
   "metadata": {},
   "outputs": [],
   "source": [
    "file_Lumi = os.path.join(base_path,'PL_20280829.csv')\n",
    "\n",
    "\n",
    "df_Lumi = pd.read_csv(file_Lumi, sep=',', header=None, skiprows=2, names=['Omega', 'counts'] )\n",
    "df_Lumi.head()"
   ]
  }
 ],
 "metadata": {
  "language_info": {
   "name": "python"
  }
 },
 "nbformat": 4,
 "nbformat_minor": 2
}
