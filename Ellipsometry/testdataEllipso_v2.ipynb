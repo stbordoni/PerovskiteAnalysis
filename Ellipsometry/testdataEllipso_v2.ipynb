{
 "cells": [
  {
   "cell_type": "code",
   "execution_count": 4,
   "metadata": {},
   "outputs": [],
   "source": [
    "import numpy as np\n",
    "import pandas as pd\n",
    "import os\n",
    "import re\n",
    "import matplotlib.pyplot as plt\n",
    "import matplotlib.colors as mcolors\n",
    "\n",
    "\n",
    "import glob\n",
    "import fnmatch\n"
   ]
  },
  {
   "cell_type": "code",
   "execution_count": 5,
   "metadata": {},
   "outputs": [
    {
     "data": {
      "text/plain": [
       "['/Users/bordonis/ResearchActivities/Perovskite/ellipsometry/R_cs021-65.dat',\n",
       " '/Users/bordonis/ResearchActivities/Perovskite/ellipsometry/DELTA_bro300-65.dat',\n",
       " '/Users/bordonis/ResearchActivities/Perovskite/ellipsometry/PSI_cs021-65.dat',\n",
       " '/Users/bordonis/ResearchActivities/Perovskite/ellipsometry/s1_cs021-65.dat',\n",
       " '/Users/bordonis/ResearchActivities/Perovskite/ellipsometry/bro300-65.dat',\n",
       " '/Users/bordonis/ResearchActivities/Perovskite/ellipsometry/DELTA_cs021-65.dat',\n",
       " '/Users/bordonis/ResearchActivities/Perovskite/ellipsometry/s1_bro300-65.dat',\n",
       " '/Users/bordonis/ResearchActivities/Perovskite/ellipsometry/e1_cs021-65.dat',\n",
       " '/Users/bordonis/ResearchActivities/Perovskite/ellipsometry/R_bro300-65.dat',\n",
       " '/Users/bordonis/ResearchActivities/Perovskite/ellipsometry/e2_cs021-65.dat',\n",
       " '/Users/bordonis/ResearchActivities/Perovskite/ellipsometry/test-bro300-65.dat',\n",
       " '/Users/bordonis/ResearchActivities/Perovskite/ellipsometry/cs021-65.dat',\n",
       " '/Users/bordonis/ResearchActivities/Perovskite/ellipsometry/n_bro300-65.dat',\n",
       " '/Users/bordonis/ResearchActivities/Perovskite/ellipsometry/e1_bro300-65.dat',\n",
       " '/Users/bordonis/ResearchActivities/Perovskite/ellipsometry/test-bro300.dat',\n",
       " '/Users/bordonis/ResearchActivities/Perovskite/ellipsometry/PSI_bro300-65.dat',\n",
       " '/Users/bordonis/ResearchActivities/Perovskite/ellipsometry/e2_bro300-65.dat',\n",
       " '/Users/bordonis/ResearchActivities/Perovskite/ellipsometry/n_cs021-65.dat']"
      ]
     },
     "execution_count": 5,
     "metadata": {},
     "output_type": "execute_result"
    }
   ],
   "source": [
    "base_path = '/Users/bordonis/ResearchActivities/Perovskite/ellipsometry/'\n",
    "file_path = os.path.join(base_path,'*.dat')\n",
    "\n",
    "file_name_list =  glob.glob(file_path) \n",
    "\n",
    "file_name_list"
   ]
  },
  {
   "cell_type": "code",
   "execution_count": 9,
   "metadata": {},
   "outputs": [
    {
     "name": "stdout",
     "output_type": "stream",
     "text": [
      "Files with 'bro300': ['/Users/bordonis/ResearchActivities/Perovskite/ellipsometry/DELTA_bro300-65.dat', '/Users/bordonis/ResearchActivities/Perovskite/ellipsometry/bro300-65.dat', '/Users/bordonis/ResearchActivities/Perovskite/ellipsometry/s1_bro300-65.dat', '/Users/bordonis/ResearchActivities/Perovskite/ellipsometry/R_bro300-65.dat', '/Users/bordonis/ResearchActivities/Perovskite/ellipsometry/test-bro300-65.dat', '/Users/bordonis/ResearchActivities/Perovskite/ellipsometry/n_bro300-65.dat', '/Users/bordonis/ResearchActivities/Perovskite/ellipsometry/e1_bro300-65.dat', '/Users/bordonis/ResearchActivities/Perovskite/ellipsometry/test-bro300.dat', '/Users/bordonis/ResearchActivities/Perovskite/ellipsometry/PSI_bro300-65.dat', '/Users/bordonis/ResearchActivities/Perovskite/ellipsometry/e2_bro300-65.dat']\n",
      "Files with 'cs021': ['/Users/bordonis/ResearchActivities/Perovskite/ellipsometry/R_cs021-65.dat', '/Users/bordonis/ResearchActivities/Perovskite/ellipsometry/PSI_cs021-65.dat', '/Users/bordonis/ResearchActivities/Perovskite/ellipsometry/s1_cs021-65.dat', '/Users/bordonis/ResearchActivities/Perovskite/ellipsometry/DELTA_cs021-65.dat', '/Users/bordonis/ResearchActivities/Perovskite/ellipsometry/e1_cs021-65.dat', '/Users/bordonis/ResearchActivities/Perovskite/ellipsometry/e2_cs021-65.dat', '/Users/bordonis/ResearchActivities/Perovskite/ellipsometry/cs021-65.dat', '/Users/bordonis/ResearchActivities/Perovskite/ellipsometry/n_cs021-65.dat']\n"
     ]
    }
   ],
   "source": [
    "# List to store files with \"bro300\" and \"cs021\" respectively\n",
    "bro300_files = []\n",
    "cs021_files = []\n",
    "\n",
    "# Iterate over files in the directory\n",
    "#for filename in os.listdir(file_name_list):\n",
    "for filename in file_name_list:\n",
    "    # Check if the filename contains \"bro300\"\n",
    "    if \"bro300\" in filename:\n",
    "        bro300_files.append(filename)\n",
    "    # Check if the filename contains \"cs021\"\n",
    "    elif \"cs021\" in filename:\n",
    "        cs021_files.append(filename)\n",
    "\n",
    "# Print the results\n",
    "print(\"Files with 'bro300':\", bro300_files)\n",
    "print(\"Files with 'cs021':\", cs021_files)\n"
   ]
  },
  {
   "cell_type": "code",
   "execution_count": 20,
   "metadata": {},
   "outputs": [],
   "source": [
    "df = pd.read_csv(bro300_files[0], delim_whitespace=True, header=None, names=['lambda', 'Delta'])\n"
   ]
  },
  {
   "cell_type": "code",
   "execution_count": 21,
   "metadata": {},
   "outputs": [
    {
     "data": {
      "text/html": [
       "<div>\n",
       "<style scoped>\n",
       "    .dataframe tbody tr th:only-of-type {\n",
       "        vertical-align: middle;\n",
       "    }\n",
       "\n",
       "    .dataframe tbody tr th {\n",
       "        vertical-align: top;\n",
       "    }\n",
       "\n",
       "    .dataframe thead th {\n",
       "        text-align: right;\n",
       "    }\n",
       "</style>\n",
       "<table border=\"1\" class=\"dataframe\">\n",
       "  <thead>\n",
       "    <tr style=\"text-align: right;\">\n",
       "      <th></th>\n",
       "      <th>lambda</th>\n",
       "      <th>Delta</th>\n",
       "    </tr>\n",
       "  </thead>\n",
       "  <tbody>\n",
       "    <tr>\n",
       "      <th>0</th>\n",
       "      <td>44900.0020</td>\n",
       "      <td>112.56671</td>\n",
       "    </tr>\n",
       "    <tr>\n",
       "      <th>1</th>\n",
       "      <td>44700.0000</td>\n",
       "      <td>111.27944</td>\n",
       "    </tr>\n",
       "    <tr>\n",
       "      <th>2</th>\n",
       "      <td>44500.0020</td>\n",
       "      <td>111.53202</td>\n",
       "    </tr>\n",
       "    <tr>\n",
       "      <th>3</th>\n",
       "      <td>44299.9980</td>\n",
       "      <td>112.92292</td>\n",
       "    </tr>\n",
       "    <tr>\n",
       "      <th>4</th>\n",
       "      <td>44099.9990</td>\n",
       "      <td>111.40317</td>\n",
       "    </tr>\n",
       "    <tr>\n",
       "      <th>...</th>\n",
       "      <td>...</td>\n",
       "      <td>...</td>\n",
       "    </tr>\n",
       "    <tr>\n",
       "      <th>196</th>\n",
       "      <td>5300.0002</td>\n",
       "      <td>168.65718</td>\n",
       "    </tr>\n",
       "    <tr>\n",
       "      <th>197</th>\n",
       "      <td>5099.9998</td>\n",
       "      <td>168.20625</td>\n",
       "    </tr>\n",
       "    <tr>\n",
       "      <th>198</th>\n",
       "      <td>4899.9998</td>\n",
       "      <td>179.95983</td>\n",
       "    </tr>\n",
       "    <tr>\n",
       "      <th>199</th>\n",
       "      <td>4700.0000</td>\n",
       "      <td>137.85189</td>\n",
       "    </tr>\n",
       "    <tr>\n",
       "      <th>200</th>\n",
       "      <td>4499.9999</td>\n",
       "      <td>180.00000</td>\n",
       "    </tr>\n",
       "  </tbody>\n",
       "</table>\n",
       "<p>201 rows × 2 columns</p>\n",
       "</div>"
      ],
      "text/plain": [
       "         lambda      Delta\n",
       "0    44900.0020  112.56671\n",
       "1    44700.0000  111.27944\n",
       "2    44500.0020  111.53202\n",
       "3    44299.9980  112.92292\n",
       "4    44099.9990  111.40317\n",
       "..          ...        ...\n",
       "196   5300.0002  168.65718\n",
       "197   5099.9998  168.20625\n",
       "198   4899.9998  179.95983\n",
       "199   4700.0000  137.85189\n",
       "200   4499.9999  180.00000\n",
       "\n",
       "[201 rows x 2 columns]"
      ]
     },
     "execution_count": 21,
     "metadata": {},
     "output_type": "execute_result"
    }
   ],
   "source": [
    "df"
   ]
  },
  {
   "cell_type": "code",
   "execution_count": 23,
   "metadata": {},
   "outputs": [],
   "source": [
    "df[\"lambda\"] = [(a * 10**-7)**-1 for a in df[\"lambda\"]]"
   ]
  },
  {
   "cell_type": "code",
   "execution_count": 24,
   "metadata": {},
   "outputs": [
    {
     "data": {
      "text/html": [
       "<div>\n",
       "<style scoped>\n",
       "    .dataframe tbody tr th:only-of-type {\n",
       "        vertical-align: middle;\n",
       "    }\n",
       "\n",
       "    .dataframe tbody tr th {\n",
       "        vertical-align: top;\n",
       "    }\n",
       "\n",
       "    .dataframe thead th {\n",
       "        text-align: right;\n",
       "    }\n",
       "</style>\n",
       "<table border=\"1\" class=\"dataframe\">\n",
       "  <thead>\n",
       "    <tr style=\"text-align: right;\">\n",
       "      <th></th>\n",
       "      <th>lambda</th>\n",
       "      <th>Delta</th>\n",
       "    </tr>\n",
       "  </thead>\n",
       "  <tbody>\n",
       "    <tr>\n",
       "      <th>0</th>\n",
       "      <td>222.717139</td>\n",
       "      <td>112.56671</td>\n",
       "    </tr>\n",
       "    <tr>\n",
       "      <th>1</th>\n",
       "      <td>223.713647</td>\n",
       "      <td>111.27944</td>\n",
       "    </tr>\n",
       "    <tr>\n",
       "      <th>2</th>\n",
       "      <td>224.719091</td>\n",
       "      <td>111.53202</td>\n",
       "    </tr>\n",
       "    <tr>\n",
       "      <th>3</th>\n",
       "      <td>225.733645</td>\n",
       "      <td>112.92292</td>\n",
       "    </tr>\n",
       "    <tr>\n",
       "      <th>4</th>\n",
       "      <td>226.757375</td>\n",
       "      <td>111.40317</td>\n",
       "    </tr>\n",
       "    <tr>\n",
       "      <th>...</th>\n",
       "      <td>...</td>\n",
       "      <td>...</td>\n",
       "    </tr>\n",
       "    <tr>\n",
       "      <th>196</th>\n",
       "      <td>1886.792382</td>\n",
       "      <td>168.65718</td>\n",
       "    </tr>\n",
       "    <tr>\n",
       "      <th>197</th>\n",
       "      <td>1960.784391</td>\n",
       "      <td>168.20625</td>\n",
       "    </tr>\n",
       "    <tr>\n",
       "      <th>198</th>\n",
       "      <td>2040.816410</td>\n",
       "      <td>179.95983</td>\n",
       "    </tr>\n",
       "    <tr>\n",
       "      <th>199</th>\n",
       "      <td>2127.659574</td>\n",
       "      <td>137.85189</td>\n",
       "    </tr>\n",
       "    <tr>\n",
       "      <th>200</th>\n",
       "      <td>2222.222272</td>\n",
       "      <td>180.00000</td>\n",
       "    </tr>\n",
       "  </tbody>\n",
       "</table>\n",
       "<p>201 rows × 2 columns</p>\n",
       "</div>"
      ],
      "text/plain": [
       "          lambda      Delta\n",
       "0     222.717139  112.56671\n",
       "1     223.713647  111.27944\n",
       "2     224.719091  111.53202\n",
       "3     225.733645  112.92292\n",
       "4     226.757375  111.40317\n",
       "..           ...        ...\n",
       "196  1886.792382  168.65718\n",
       "197  1960.784391  168.20625\n",
       "198  2040.816410  179.95983\n",
       "199  2127.659574  137.85189\n",
       "200  2222.222272  180.00000\n",
       "\n",
       "[201 rows x 2 columns]"
      ]
     },
     "execution_count": 24,
     "metadata": {},
     "output_type": "execute_result"
    }
   ],
   "source": [
    "df"
   ]
  },
  {
   "cell_type": "code",
   "execution_count": null,
   "metadata": {},
   "outputs": [],
   "source": []
  },
  {
   "cell_type": "code",
   "execution_count": null,
   "metadata": {},
   "outputs": [],
   "source": []
  }
 ],
 "metadata": {
  "kernelspec": {
   "display_name": ".venv",
   "language": "python",
   "name": "python3"
  },
  "language_info": {
   "codemirror_mode": {
    "name": "ipython",
    "version": 3
   },
   "file_extension": ".py",
   "mimetype": "text/x-python",
   "name": "python",
   "nbconvert_exporter": "python",
   "pygments_lexer": "ipython3",
   "version": "3.9.13"
  }
 },
 "nbformat": 4,
 "nbformat_minor": 2
}
