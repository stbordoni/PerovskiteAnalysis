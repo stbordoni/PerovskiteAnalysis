{
 "cells": [
  {
   "cell_type": "code",
   "execution_count": 1,
   "metadata": {},
   "outputs": [],
   "source": [
    "import re\n",
    "import pandas as pd\n",
    "import matplotlib.pyplot as plt\n",
    "import numpy as np\n",
    "import time\n",
    "pd.set_option(\"display.float_format\", \"{:.12g}\".format)\n",
    "np.set_printoptions(suppress=True, precision=12) "
   ]
  },
  {
   "cell_type": "code",
   "execution_count": 2,
   "metadata": {},
   "outputs": [],
   "source": [
    "def readfile(input_filename):\n",
    "\n",
    "     \n",
    "     # Open and parse the file\n",
    "     with open(input_filename, \"r\") as file:\n",
    "          fullrun=False\n",
    "          for line in file:\n",
    "               \n",
    "               if line.startswith(\"=== EVENT 1 ===\"):\n",
    "                    nextline = next(file)\n",
    "                    #print(nextline)\n",
    "                    nextline.strip()\n",
    "                    start = '== TDC corrected time =' \n",
    "                    end = '=='\n",
    "                    run_starttime = ((nextline.split(start))[1].split(end)[0])\n",
    "                    #print(run_starttime)\n",
    "\n",
    "               if line.startswith(\"=== EVENT 10000 ===\"):\n",
    "                    fullrun=True\n",
    "                    nextline = next(file)\n",
    "                    #print(nextline)\n",
    "                    nextline.strip()\n",
    "                    start = '== TDC corrected time =' \n",
    "                    end = '=='\n",
    "                    run_endtime = ((nextline.split(start))[1].split(end)[0])\n",
    "                    #print(run_endtime)\n",
    "\n",
    "     #print(fullrun)\n",
    "     if (fullrun==False):\n",
    "          print(\"run with less than 10000 events. Stopping the execution\")\n",
    "          run_endtime = \"0h0m0s,0.0.0ns\"\n",
    "          run_starttime = \"0h0m0s,0.0.0ns\"   \n",
    "                             \n",
    "\n",
    "     return run_starttime, run_endtime\n",
    "\n",
    "               "
   ]
  },
  {
   "cell_type": "code",
   "execution_count": 3,
   "metadata": {},
   "outputs": [],
   "source": [
    "def parse_time(time_str):\n",
    "    \"\"\"Extract hours, minutes, seconds, and nanoseconds from a given time string.\"\"\"\n",
    "    match = re.match(r\"(\\d+)h(\\d+)m(\\d+)s,(\\d+)\\.(\\d+)\\.(\\d+)ns\", time_str)\n",
    "    if match:\n",
    "        hours, minutes, seconds, ns1, ns2, ns3 = map(int, match.groups())\n",
    "        nanoseconds = (hours * 3600 + minutes * 60 + seconds) * 1_000_000_000 + ns1 * 1_000_000 + ns2 * 1_000 + ns3\n",
    "        return nanoseconds\n",
    "    else:\n",
    "        raise ValueError(\"Invalid time format\")\n"
   ]
  },
  {
   "cell_type": "code",
   "execution_count": 4,
   "metadata": {},
   "outputs": [],
   "source": [
    "def format_time(nanoseconds):\n",
    "    \"\"\"Convert nanoseconds to a human-readable h:m:s,ns format.\"\"\"\n",
    "    total_seconds, ns = divmod(nanoseconds, 1_000_000_000)\n",
    "    hours, remainder = divmod(total_seconds, 3600)\n",
    "    minutes, seconds = divmod(remainder, 60)\n",
    "    return f\"{hours}h{minutes}m{seconds}s,{ns:09d}ns\""
   ]
  },
  {
   "cell_type": "code",
   "execution_count": 5,
   "metadata": {},
   "outputs": [],
   "source": [
    "def extract_rate(nanoseconds,Nevts):\n",
    "    total_seconds, ns = divmod(nanoseconds, 1_000_000_000)\n",
    "    return Nevts/total_seconds"
   ]
  },
  {
   "cell_type": "code",
   "execution_count": 6,
   "metadata": {},
   "outputs": [],
   "source": [
    "#define path to files\n",
    "file_path=\"/Users/bordonis/ResearchActivities/Perovskite/data/NewSiPM_KEPboard_DPNCboard/\"\n",
    "\n",
    "#list of filenames\n",
    "#Cs104-A 10mV (source outside box)\n",
    "#filelist = [\"CERN/Cs104-A/Run_006_CERN_Cs104-A_Data_10_14_2024_Ascii.dat\", \n",
    "#            \"CERN/Cs104-A/Run_010_CERN_Cs104-A_Data_10_15_2024_Ascii.dat\", \n",
    "#            \"CERN/Cs104-A/Run_015_CERN_Cs104-A_Data_10_15_2024_Ascii.dat\"]\n",
    "\n",
    "#Cs104-A 10mV (source INSIDE box) (09.01.2025)\n",
    "filelist = [\"CERN/Cs104-A/Run_004_CERN_nosource_Data_1_9_2025_Ascii.dat\",\n",
    "            \"CERN/Cs104-A/Run_005_CERN_nosource_Data_1_9_2025_Ascii.dat\",\n",
    "            \"CERN/Cs104-A/Run_015_CERN_nosource_Data_1_9_2025_Ascii.dat\"]\n",
    "\n",
    "#Cs104-A 10mV (no source) (28.03.2025)\n",
    "#filelist = [\"CERN/Cs104-A/Run_025_Cs104A_Data_3_28_2025_Ascii.dat\"]\n",
    "\n",
    "\n",
    "#Cs104-A 15mV (source INSIDE box) (09.01.2025)\n",
    "#filelist = [\"CERN/Cs104-A/Run_010_CERN_nosource_Data_1_9_2025_Ascii.dat\",\n",
    "#            \"CERN/Cs104-A/Run_016_CERN_nosource_Data_1_9_2025_Ascii.dat\"]\n",
    "\n",
    "\n",
    "#MAPbBr3 5mV  (17.12.2024)\n",
    "#filelist = [\"CERN/MAPbBr3-SC67_B/Run_000_CERN_MAPbBr3_SC67B_Data_12_4_2024_Ascii.dat\",\n",
    "#            \"CERN/MAPbBr3-SC67_B/Run_008_CERN_Data_12_17_2024_Ascii.dat\",\n",
    "#            \"CERN/MAPbBr3-SC67_B/Run_011_CERN_Data_12_17_2024_Ascii.dat\"]\n",
    "\n",
    "#MAPbBr3 7mV  (17.12.2024)\n",
    "#filelist = [\"CERN/MAPbBr3-SC67_B/Run_005_CERN_Data_12_17_2024_Ascii.dat\",\n",
    "#            \"CERN/MAPbBr3-SC67_B/Run_006_CERN_Data_12_17_2024_Ascii.dat\",\n",
    "#            \"CERN/MAPbBr3-SC67_B/Run_010_CERN_Data_12_17_2024_Ascii.dat\"]\n",
    "\n",
    "\n",
    "#filelist = [\"CERN/MAPbBr3-SC67_B/Run_010_CERN_Data_12_17_2024_Ascii.dat\",\n",
    "#            \"CERN/MAPbBr3-SC67_B/Run_001_Cs_CERN_Data_1_9_2025_Ascii.dat\"]\n",
    "            \n",
    "#MAPbBr3 10mV  (3.10.2024) @UNIGE with Sr90\n",
    "#filelist = [\"MAPbBr3/SC67-B/Run_007_SC67-B_Data_10_3_2024_Ascii.dat\",\n",
    "#            \"MAPbBr3/SC67-B/Run_006_SC67-B_Data_10_3_2024_Ascii.dat\"]\n",
    "\n",
    "\n",
    "\n"
   ]
  },
  {
   "cell_type": "code",
   "execution_count": 7,
   "metadata": {},
   "outputs": [
    {
     "name": "stdout",
     "output_type": "stream",
     "text": [
      "rate is [Hz]:  11.26126126126126\n",
      "rate is [Hz]:  41.32231404958678\n",
      "rate is [Hz]:  42.5531914893617\n"
     ]
    }
   ],
   "source": [
    "#define output as a dictionary \n",
    "\n",
    "#output = {}\n",
    "\n",
    "outputlist = []\n",
    "\n",
    "for f in filelist:\n",
    "\n",
    "    starttime, endtime = readfile(file_path+f)\n",
    "    \n",
    "    # Convert to nanoseconds\n",
    "    start_ns = parse_time(starttime.strip())\n",
    "    end_ns = parse_time(endtime.strip())\n",
    "\n",
    "    # Compute difference\n",
    "    diff_ns = end_ns - start_ns\n",
    "\n",
    "    # Format the result\n",
    "    time_diff_str = format_time(diff_ns)\n",
    "\n",
    "\n",
    "    #output[f] = time_diff_str\n",
    "    rate = extract_rate(diff_ns, 10000)\n",
    "\n",
    "    outputlist.append((f, time_diff_str, rate))\n",
    "    print(\"rate is [Hz]: \", rate )\n",
    "    \n",
    "    "
   ]
  },
  {
   "cell_type": "code",
   "execution_count": 8,
   "metadata": {},
   "outputs": [
    {
     "data": {
      "text/html": [
       "<div>\n",
       "<style scoped>\n",
       "    .dataframe tbody tr th:only-of-type {\n",
       "        vertical-align: middle;\n",
       "    }\n",
       "\n",
       "    .dataframe tbody tr th {\n",
       "        vertical-align: top;\n",
       "    }\n",
       "\n",
       "    .dataframe thead th {\n",
       "        text-align: right;\n",
       "    }\n",
       "</style>\n",
       "<table border=\"1\" class=\"dataframe\">\n",
       "  <thead>\n",
       "    <tr style=\"text-align: right;\">\n",
       "      <th></th>\n",
       "      <th>File</th>\n",
       "      <th>Time duration</th>\n",
       "      <th>Rate</th>\n",
       "    </tr>\n",
       "  </thead>\n",
       "  <tbody>\n",
       "    <tr>\n",
       "      <th>0</th>\n",
       "      <td>CERN/Cs104-A/Run_004_CERN_nosource_Data_1_9_2025_Ascii.dat</td>\n",
       "      <td>0h14m48s,339597584ns</td>\n",
       "      <td>11.26</td>\n",
       "    </tr>\n",
       "    <tr>\n",
       "      <th>1</th>\n",
       "      <td>CERN/Cs104-A/Run_005_CERN_nosource_Data_1_9_2025_Ascii.dat</td>\n",
       "      <td>0h4m2s,082170709ns</td>\n",
       "      <td>41.32</td>\n",
       "    </tr>\n",
       "    <tr>\n",
       "      <th>2</th>\n",
       "      <td>CERN/Cs104-A/Run_015_CERN_nosource_Data_1_9_2025_Ascii.dat</td>\n",
       "      <td>0h3m55s,809173236ns</td>\n",
       "      <td>42.55</td>\n",
       "    </tr>\n",
       "  </tbody>\n",
       "</table>\n",
       "</div>"
      ],
      "text/plain": [
       "                                                         File  \\\n",
       "0  CERN/Cs104-A/Run_004_CERN_nosource_Data_1_9_2025_Ascii.dat   \n",
       "1  CERN/Cs104-A/Run_005_CERN_nosource_Data_1_9_2025_Ascii.dat   \n",
       "2  CERN/Cs104-A/Run_015_CERN_nosource_Data_1_9_2025_Ascii.dat   \n",
       "\n",
       "          Time duration  Rate  \n",
       "0  0h14m48s,339597584ns 11.26  \n",
       "1    0h4m2s,082170709ns 41.32  \n",
       "2   0h3m55s,809173236ns 42.55  "
      ]
     },
     "execution_count": 8,
     "metadata": {},
     "output_type": "execute_result"
    }
   ],
   "source": [
    "pd.set_option('max_colwidth', 100)\n",
    "pd.options.display.float_format = '{0:0.2f}'.format\n",
    "df_out = pd.DataFrame(outputlist, columns=['File', 'Time duration', 'Rate'])\n",
    "df_out.head()"
   ]
  },
  {
   "cell_type": "code",
   "execution_count": 9,
   "metadata": {},
   "outputs": [],
   "source": [
    "#some manual computation for runs with less than 10k events (script to be improved)\n",
    "\n",
    "run_start_nosource = \"12h55m49s,159.990.455ns\"\n",
    "run_stop_nosource = \"15h30m09s,436.246.149ns\"\n",
    "Nevts_nosource=7005\n",
    "\n",
    "run_start_Am241=\"15h32m45s,279.525.690ns\"\n",
    "run_stop_Am241=\"16h14m34s,930.905.916ns\"\n",
    "Nevts_Am241=2053\n",
    "\n",
    "run_start_Cs137=\"16h54m12s,389.705.530ns\"\n",
    "run_stop_Cs137=\"17h23m38s,669.663.064ns\"\n",
    "Nevts_Cs137=10000"
   ]
  },
  {
   "cell_type": "code",
   "execution_count": null,
   "metadata": {},
   "outputs": [],
   "source": [
    "def extract_rate(nanoseconds,Nevts):\n",
    "    total_seconds, ns = divmod(nanoseconds, 1_000_000_000)\n",
    "    return Nevts/total_seconds"
   ]
  },
  {
   "cell_type": "code",
   "execution_count": null,
   "metadata": {},
   "outputs": [],
   "source": [
    "# Convert to nanoseconds\n",
    "start_ns = parse_time(run_start_Am241.strip())\n",
    "end_ns = parse_time(run_stop_Am241.strip())\n",
    "\n",
    "# Compute difference\n",
    "diff_ns = end_ns - start_ns\n",
    "\n",
    "# Format the result\n",
    "time_diff_str = format_time(diff_ns)\n",
    "\n",
    "print(time_diff_str)\n",
    "rate = extract_rate(diff_ns,Nevts_Am241)\n",
    "print(\"rate is [Hz]: \", rate)"
   ]
  },
  {
   "cell_type": "code",
   "execution_count": null,
   "metadata": {},
   "outputs": [],
   "source": []
  },
  {
   "cell_type": "code",
   "execution_count": null,
   "metadata": {},
   "outputs": [],
   "source": []
  }
 ],
 "metadata": {
  "kernelspec": {
   "display_name": ".venv",
   "language": "python",
   "name": "python3"
  },
  "language_info": {
   "codemirror_mode": {
    "name": "ipython",
    "version": 3
   },
   "file_extension": ".py",
   "mimetype": "text/x-python",
   "name": "python",
   "nbconvert_exporter": "python",
   "pygments_lexer": "ipython3",
   "version": "3.9.13"
  }
 },
 "nbformat": 4,
 "nbformat_minor": 2
}
