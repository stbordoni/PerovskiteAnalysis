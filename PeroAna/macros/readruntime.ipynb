{
 "cells": [
  {
   "cell_type": "code",
   "execution_count": 1,
   "metadata": {},
   "outputs": [],
   "source": [
    "import re\n",
    "import pandas as pd\n",
    "import matplotlib.pyplot as plt\n",
    "import numpy as np\n",
    "import time\n",
    "pd.set_option(\"display.float_format\", \"{:.12g}\".format)\n",
    "np.set_printoptions(suppress=True, precision=12) "
   ]
  },
  {
   "cell_type": "code",
   "execution_count": 2,
   "metadata": {},
   "outputs": [],
   "source": [
    "def readfile(input_filename):\n",
    "\n",
    "     \n",
    "     # Open and parse the file\n",
    "     with open(input_filename, \"r\") as file:\n",
    "          for line in file:\n",
    "              \n",
    "               if line.startswith(\"=== EVENT 1 ===\"):\n",
    "                    nextline = next(file)\n",
    "                    #print(nextline)\n",
    "                    nextline.strip()\n",
    "                    start = '== TDC corrected time =' \n",
    "                    end = '=='\n",
    "                    run_starttime = ((nextline.split(start))[1].split(end)[0])\n",
    "                    #print(run_starttime)\n",
    "\n",
    "               if line.startswith(\"=== EVENT 10000 ===\"):\n",
    "                    nextline = next(file)\n",
    "                    #print(nextline)\n",
    "                    nextline.strip()\n",
    "                    start = '== TDC corrected time =' \n",
    "                    end = '=='\n",
    "                    run_endtime = ((nextline.split(start))[1].split(end)[0])\n",
    "                    #print(run_endtime)\n",
    "\n",
    "     return run_starttime, run_endtime\n",
    "\n",
    "               "
   ]
  },
  {
   "cell_type": "code",
   "execution_count": 3,
   "metadata": {},
   "outputs": [],
   "source": [
    "def parse_time(time_str):\n",
    "    \"\"\"Extract hours, minutes, seconds, and nanoseconds from a given time string.\"\"\"\n",
    "    match = re.match(r\"(\\d+)h(\\d+)m(\\d+)s,(\\d+)\\.(\\d+)\\.(\\d+)ns\", time_str)\n",
    "    if match:\n",
    "        hours, minutes, seconds, ns1, ns2, ns3 = map(int, match.groups())\n",
    "        nanoseconds = (hours * 3600 + minutes * 60 + seconds) * 1_000_000_000 + ns1 * 1_000_000 + ns2 * 1_000 + ns3\n",
    "        return nanoseconds\n",
    "    else:\n",
    "        raise ValueError(\"Invalid time format\")\n"
   ]
  },
  {
   "cell_type": "code",
   "execution_count": 4,
   "metadata": {},
   "outputs": [],
   "source": [
    "def format_time(nanoseconds):\n",
    "    \"\"\"Convert nanoseconds to a human-readable h:m:s,ns format.\"\"\"\n",
    "    total_seconds, ns = divmod(nanoseconds, 1_000_000_000)\n",
    "    hours, remainder = divmod(total_seconds, 3600)\n",
    "    minutes, seconds = divmod(remainder, 60)\n",
    "    return f\"{hours}h{minutes}m{seconds}s,{ns:09d}ns\""
   ]
  },
  {
   "cell_type": "code",
   "execution_count": 5,
   "metadata": {},
   "outputs": [],
   "source": [
    "#define path to files\n",
    "file_path=\"/Users/bordonis/ResearchActivities/Perovskite/data/NewSiPM_KEPboard_DPNCboard/CERN/Cs104-A/\"\n",
    "\n",
    "#list of filenames\n",
    "filelist = [\"Run_006_CERN_Cs104-A_Data_10_14_2024_Ascii.dat\", \n",
    "            \"Run_010_CERN_Cs104-A_Data_10_15_2024_Ascii.dat\", \n",
    "            \"Run_015_CERN_Cs104-A_Data_10_15_2024_Ascii.dat\"]\n"
   ]
  },
  {
   "cell_type": "code",
   "execution_count": 6,
   "metadata": {},
   "outputs": [],
   "source": [
    "#define output as a dictionary \n",
    "\n",
    "output = {}\n",
    "\n",
    "for f in filelist:\n",
    "\n",
    "    starttime, endtime = readfile(file_path+f)\n",
    "    \n",
    "    # Convert to nanoseconds\n",
    "    start_ns = parse_time(starttime.strip())\n",
    "    end_ns = parse_time(endtime.strip())\n",
    "\n",
    "    # Compute difference\n",
    "    diff_ns = end_ns - start_ns\n",
    "\n",
    "    # Format the result\n",
    "    time_diff_str = format_time(diff_ns)\n",
    "\n",
    "\n",
    "    output[f] = time_diff_str\n",
    "\n",
    "    "
   ]
  },
  {
   "cell_type": "code",
   "execution_count": 7,
   "metadata": {},
   "outputs": [
    {
     "name": "stdout",
     "output_type": "stream",
     "text": [
      "                                             File         Time duration\n",
      "0  Run_006_CERN_Cs104-A_Data_10_14_2024_Ascii.dat  1h20m12s,700686730ns\n",
      "1  Run_010_CERN_Cs104-A_Data_10_15_2024_Ascii.dat  0h32m23s,655881838ns\n",
      "2  Run_015_CERN_Cs104-A_Data_10_15_2024_Ascii.dat   0h15m4s,798348820ns\n"
     ]
    }
   ],
   "source": [
    "# format output \n",
    "pd.set_option('max_colwidth', 100)\n",
    "pd.DataFrame(output.items(), columns=['File', 'Time duration'])\n",
    "print(pd.DataFrame(output.items(), columns=['File', 'Time duration']))\n"
   ]
  },
  {
   "cell_type": "code",
   "execution_count": null,
   "metadata": {},
   "outputs": [],
   "source": []
  }
 ],
 "metadata": {
  "kernelspec": {
   "display_name": ".venv",
   "language": "python",
   "name": "python3"
  },
  "language_info": {
   "codemirror_mode": {
    "name": "ipython",
    "version": 3
   },
   "file_extension": ".py",
   "mimetype": "text/x-python",
   "name": "python",
   "nbconvert_exporter": "python",
   "pygments_lexer": "ipython3",
   "version": "3.9.13"
  }
 },
 "nbformat": 4,
 "nbformat_minor": 2
}
